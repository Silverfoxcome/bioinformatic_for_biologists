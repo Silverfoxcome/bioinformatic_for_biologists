{
 "cells": [
  {
   "cell_type": "markdown",
   "metadata": {},
   "source": [
    "# Conditional Expressions"
   ]
  },
  {
   "cell_type": "markdown",
   "metadata": {},
   "source": [
    "[link](https://www.futurelearn.com/courses/linux-for-bioinformatics/1/steps/1039683)"
   ]
  },
  {
   "cell_type": "markdown",
   "metadata": {},
   "source": [
    "Modern Bash syntax for conditional expressions encases our comparative expression inside double square brackets ([[ and ]]).\n",
    "\n",
    "The syntax for this is:\n",
    "\n",
    "```\n",
    "[[ option arg1 ]]\n",
    "```\n",
    "or\n",
    "```\n",
    "[[ arg1 operator arg2 ]]\n",
    "```"
   ]
  },
  {
   "cell_type": "markdown",
   "metadata": {},
   "source": [
    "## Spacing is important"
   ]
  },
  {
   "cell_type": "markdown",
   "metadata": {},
   "source": [
    "It’s worth noting that the spacing is important. Here are some examples of valid and invalid conditional expression syntax."
   ]
  },
  {
   "cell_type": "markdown",
   "metadata": {},
   "source": [
    "### Valid"
   ]
  },
  {
   "cell_type": "markdown",
   "metadata": {},
   "source": [
    "```\n",
    "[[ -f ${file} ]]\n",
    "```"
   ]
  },
  {
   "cell_type": "markdown",
   "metadata": {},
   "source": [
    "### Invalid"
   ]
  },
  {
   "cell_type": "markdown",
   "metadata": {},
   "source": [
    "```\n",
    "[[ -e file]]\n",
    "\n",
    "[[-e file]]\n",
    "\n",
    "[[-efile]]\n",
    "```"
   ]
  },
  {
   "cell_type": "markdown",
   "metadata": {},
   "source": [
    "## File and variable operators "
   ]
  },
  {
   "cell_type": "markdown",
   "metadata": {},
   "source": [
    "When we process files in our Bash scripts, it is often useful to check that they exist or whether they’re empty before the rest of our script proceeds. File operators allow us to perform checks on files and give us the opportunity to handle errors gracefully.\n",
    "\n",
    "Below are some of the most commonly used file operators.\n",
    "\n",
    "Returns true if the file exists:\n",
    "```\n",
    "[[ -e ${file} ]]\n",
    "```\n",
    "Returns true if the file exists and is a directory:\n",
    "```\n",
    "[[ -d ${directory} ]]\n",
    "```\n",
    "Returns true if the file exists and is a regular file:\n",
    "```\n",
    "[[ -f ${file} ]]\n",
    "```\n",
    "Returns true if the file exists and is readable:\n",
    "```\n",
    "[[ -r ${file} ]]\n",
    "```\n",
    "Returns true if the file exists and has a file size > 0:\n",
    "```\n",
    "[[ -s ${file} ]]\n",
    "```"
   ]
  },
  {
   "cell_type": "markdown",
   "metadata": {},
   "source": [
    "## conditional expressions to perform sanity checks on our variables"
   ]
  },
  {
   "cell_type": "markdown",
   "metadata": {},
   "source": [
    "For example, checking whether a value has been assigned to a particular variable (e.g. var):\n",
    "```\n",
    "[[ -v ${var} ]]\n",
    "```\n",
    "Or, to check that the variable length is greater than 0: \n",
    "```\n",
    "[[ -n ${string} ]]\n",
    "```\n",
    "Or, that the length of the variable is 0:\n",
    "```\n",
    "[[ -z ${string} ]]\n",
    "```"
   ]
  },
  {
   "cell_type": "markdown",
   "metadata": {},
   "source": [
    "## String comparisons"
   ]
  },
  {
   "cell_type": "markdown",
   "metadata": {},
   "source": [
    "## Arithmetic comparisons"
   ]
  },
  {
   "cell_type": "markdown",
   "metadata": {},
   "source": [
    "# If and If Else Statements "
   ]
  },
  {
   "cell_type": "markdown",
   "metadata": {},
   "source": [
    "[if else link lesson](https://www.futurelearn.com/courses/linux-for-bioinformatics/1/steps/1039687)"
   ]
  },
  {
   "cell_type": "markdown",
   "metadata": {},
   "source": [
    "## Task"
   ]
  },
  {
   "cell_type": "markdown",
   "metadata": {},
   "source": [
    "Write a Bash script called temperature.sh that:\n",
    "\n",
    "    1. read in a command line argument into a variable called temperature\n",
    "    2. has a variable called min and give it a variable of 10\n",
    "    3. has a variable called max and give it a variable of 30\n",
    "    4. returns “Too hot!” if temperature is greater than max_temperature\n",
    "    5. returns “Too cold!” if temperature is less than min_temperature\n",
    "    6. returns “Just right!” if temperature is greater than or equal to the min_temperature and less than or equal to the max_temperature\n",
    "\n",
    "Test your Bash script with the following command:\n",
    "\n",
    "```\n",
    "./temperature.sh 22\n",
    "```\n",
    "\n",
    "What does your script output?"
   ]
  },
  {
   "cell_type": "code",
   "execution_count": null,
   "metadata": {},
   "outputs": [],
   "source": [
    "#!/usr/bin/env bash\n",
    "\n",
    "# asking and capturing user input with read command in \"temperature\" variable\n",
    "#read -p \"Give me a temperature: \" temperature \n",
    "# temperature is the variable in which I'm going to store input\n",
    "\n",
    "# passing temperature as argument to the script\n",
    "temperature=$1\n",
    "\n",
    "# defining variables\n",
    "min=10\n",
    "max=30\n",
    "\n",
    "if [[ \"${temperature}\" -gt \"${max}\" ]]; then\n",
    "    echo \"Too hot!\"\n",
    "elif [[ \"${temperature}\" -lt \"${min}\" ]]; then\n",
    "    echo \"Too cold!\"\n",
    "elif [[ \"${temperature}\" -ge \"${min}\" ]] && [[ \"${temperature}\" -le \"${max}\" ]]; then\n",
    "    echo \"Just right!\"\n",
    "fi"
   ]
  },
  {
   "cell_type": "markdown",
   "metadata": {},
   "source": [
    "Another option:"
   ]
  },
  {
   "cell_type": "code",
   "execution_count": null,
   "metadata": {},
   "outputs": [],
   "source": [
    "#!/usr/bin/env bash\n",
    "\n",
    "# passing argument to script\n",
    "temperature=$1\n",
    "\n",
    "# defining local variables\n",
    "min_temp=10\n",
    "max_temp=30\n",
    "\n",
    "# testing input temperature\n",
    "\n",
    "if [[ \"${temperature}\" -lt \"${min_temp}\" ]]; then\n",
    "    echo \"Too cold!\"\n",
    "elif [[ \"${temperature}\" -gt \"${max_temp}\" ]]; then\n",
    "    echo \"Too hot!\"\n",
    "else\n",
    "    echo \"Just right!\"\n",
    "fi"
   ]
  },
  {
   "cell_type": "markdown",
   "metadata": {},
   "source": [
    "## Switch Case Statements"
   ]
  },
  {
   "cell_type": "markdown",
   "metadata": {},
   "source": [
    "The case syntax looks like this:"
   ]
  },
  {
   "cell_type": "code",
   "execution_count": null,
   "metadata": {},
   "outputs": [],
   "source": [
    "case $string in\n",
    "    \tpattern_1)\n",
    "      \tcommand\n",
    "      \t;;\n",
    "    \tpattern_2)\n",
    "      \talternate command\n",
    "      \t;;\n",
    "    \t*)\n",
    "      \tdefault command\n",
    "      \t;;\n",
    "esac"
   ]
  },
  {
   "cell_type": "markdown",
   "metadata": {},
   "source": [
    "```\n",
    "case $string in\n",
    "    \tpattern_1)\n",
    "        command\n",
    "        ;;\n",
    "    \tpattern_2)\n",
    "        alternate command\n",
    "        ;;\n",
    "    \t*)\n",
    "        default command\n",
    "        ;;\n",
    "esac\n",
    "\n",
    "```"
   ]
  },
  {
   "cell_type": "markdown",
   "metadata": {},
   "source": [
    "Let’s break this down. \n",
    "\n",
    "First, we start with case followed by the variable or expression we want to test and then in. \n",
    "\n",
    "Next, we have our case patterns against which we want to check our variable or expression. \n",
    "\n",
    "We use the ) symbol to signify the end of each pattern. \n",
    "\n",
    "After each pattern, you can then specify one or more commands you want to execute in the event that the pattern matches the expression or variable, terminating each clause with ;;. \n",
    "\n",
    "As our last switch, it is common practice to have a default condition which is defined by having * as the pattern. \n",
    "\n",
    "Finally, we signify the end of our case statement by closing it with esac (case typed backwards!)."
   ]
  },
  {
   "cell_type": "markdown",
   "metadata": {},
   "source": [
    "Another example:"
   ]
  },
  {
   "cell_type": "code",
   "execution_count": null,
   "metadata": {},
   "outputs": [],
   "source": [
    "#!/usr/bin/env bash\n",
    " \n",
    "fruit=\"pineapple\"\n",
    "case $fruit in\n",
    "    \tapple)\n",
    "      \techo \"Your apple will cost 35p\"\n",
    "      \t;;\n",
    "    \tpear)\n",
    "      \techo \"Your pear will cost 41p\"\n",
    "      \t;;\n",
    "    \tpeach)\n",
    "      \techo \"Your peach will cost 50p\"\n",
    "      \t;;\n",
    "    \tpineapple)\n",
    "      \techo \"Your pineapple will cost 75p\"\n",
    "      \t;;\n",
    "    \t*)\n",
    "      \techo \"Unknown fruit\"\n",
    "      \t;;\n",
    "esac"
   ]
  },
  {
   "cell_type": "markdown",
   "metadata": {},
   "source": [
    "First, we set our variable, fruit, to have the value “pineapple”. We then compare this against several conditions looking to see whether the value of our variable matches the pattern provided. In the event that none of the patterns match our fruit, we have a default response “Unknown fruit”.\n",
    "\n",
    "As one of the patterns is indeed “pineapple” we meet that condition and return:\n",
    "```\n",
    "Your pineapple will cost 75p\n",
    "```"
   ]
  },
  {
   "cell_type": "markdown",
   "metadata": {},
   "source": [
    "### Task"
   ]
  },
  {
   "cell_type": "markdown",
   "metadata": {},
   "source": [
    "Create a Bash script called farm.sh that uses a case statement to perform the following functions:\n",
    "\n",
    "    1. Stores a command line argument in a variable called animal\n",
    "    2. Use a case switch statement which has the following conditions and responses\n",
    "\n",
    "        a. When the user enters cow, return “Here, moo”\n",
    "        b. When the user enters sheep, return “There a baa”\n",
    "        c. When the user enters duck, return “Everywhere a quack”\n",
    "        d. Otherwise, return “Old MacDonald had a farm”\n"
   ]
  },
  {
   "cell_type": "code",
   "execution_count": null,
   "metadata": {},
   "outputs": [],
   "source": [
    "#!/usr/bin/env bash\n",
    "\n",
    "# option 1: create a variable to store command line argument\n",
    "animal=$1\n",
    "\n",
    "# option 2: ask for user input and capture it with read command\n",
    "#read -p \"Tell me an animal: \" animal\n",
    "\n",
    "# case switch statement\n",
    "\n",
    "case \"${animal}\" in\n",
    "    cow)\n",
    "    echo \"Here, moo\"\n",
    "    ;;\n",
    "    sheep)\n",
    "    echo \"There a baa\"\n",
    "    ;;\n",
    "    duck)\n",
    "    echo \"Everywhere a quack\"\n",
    "    ;;\n",
    "    *)\n",
    "    echo \"Old MacDonald had a farm\"\n",
    "    ;;\n",
    "esac"
   ]
  },
  {
   "cell_type": "markdown",
   "metadata": {},
   "source": [
    "## Practice"
   ]
  },
  {
   "cell_type": "markdown",
   "metadata": {},
   "source": [
    "#### Option 1"
   ]
  },
  {
   "cell_type": "code",
   "execution_count": null,
   "metadata": {},
   "outputs": [],
   "source": [
    "#!/usr/bin/env bash\n",
    "\n",
    "# Setting the path to the file Diamonds.csv\n",
    "file=\"../data/week1/Diamonds.csv\"\n",
    "# the path is stored in the variable file\n",
    "\n",
    "\n",
    "# checking if the file exist, is readable and has data\n",
    "if [[ -e \"${file}\" ]] && [[ -r \"${file}\" ]] && [[ -s \"${file}\" ]]; then\n",
    "    # execute this if the file meet all 3 conditions:\n",
    "    echo \"The file is good\"\n",
    "else\n",
    "    # execute this if the file doesn't meet all the 3 conditions\n",
    "    echo \"There is something wrong with the file\"\n",
    "fi\n",
    "\n",
    "\n",
    "# Prompting the user to provide a cut input and store it in a variable\n",
    "read -p \"Please, provide a cut: \" quality\n",
    "\n",
    "# option 1: testing the input cut using case switch statements\n",
    "case \"${quality}\" in\n",
    "    Fair | Good)\n",
    "        echo \"Insufficient quality to proceed.\"\n",
    "        ;;\n",
    "    Premium | Ideal | \"Very Good\")\n",
    "        # the only valid cuts are these 3\n",
    "        # store the output of the grep command in the variable \"number_diamonds\"\n",
    "        number_diamonds=$(grep -c \"${quality}\" \"${file}\")\n",
    "        # number of diamonds = number of rows with ${quality}\n",
    "\n",
    "        # information that I will five the user\n",
    "        echo \"There are ${number_diamonds} diamonds of the cut ${quality}\"\n",
    "        ;;\n",
    "    *)\n",
    "        echo \"Invalid cut\"\n",
    "        ;;\n",
    "esac\n",
    "\n",
    "\n",
    "# option 2: using if, elif and else"
   ]
  },
  {
   "cell_type": "markdown",
   "metadata": {},
   "source": [
    "#### Option 2"
   ]
  },
  {
   "cell_type": "code",
   "execution_count": null,
   "metadata": {},
   "outputs": [],
   "source": [
    "#!/usr/bin/env bash\n",
    "\n",
    "# Setting the path to the file Diamonds.csv\n",
    "file=\"../data/week1/Diamonds.csv\"\n",
    "# the path is stored in the variable file\n",
    "\n",
    "\n",
    "# checking if the file exist, is readable and has data\n",
    "if [[ -e \"${file}\" ]] && [[ -r \"${file}\" ]] && [[ -s \"${file}\" ]]; then\n",
    "    # execute this if the file meet all 3 conditions:\n",
    "    echo \"The file is good\"\n",
    "else\n",
    "    # execute this if the file doesn't meet all the 3 conditions\n",
    "    echo \"There is something wrong with the file\"\n",
    "fi\n",
    "\n",
    "\n",
    "# option 2: using if, elif and else\n",
    "if [[ \"${quality}\" == \"Fair\" ]] || [[ \"${quality}\" == \"Good\" ]]; then\n",
    "    echo \"Insufficient quality to proceed.\"\n",
    "elif [[ \"${quality}\" != \"Premium\" ]] && [[ \"${quality}\" != \"Ideal\" ]] && [[ \"${quality}\" != \"Very Good\" ]]; then\n",
    "    echo \"Invalid cut\"\n",
    "else\n",
    "    number_diamonds=$(grep -c \"${quality}\" \"${file}\")\n",
    "    echo \"There are ${number_diamonds} diamonds of the cut ${quality}\"\n",
    "fi\n",
    "\n",
    "# the only valid cuts are Premium, Ideal and Very Good"
   ]
  },
  {
   "cell_type": "markdown",
   "metadata": {},
   "source": [
    "## Sources"
   ]
  },
  {
   "cell_type": "markdown",
   "metadata": {},
   "source": [
    "* [Case Statement Example](https://linuxize.com/post/bash-case-statement/#case-statement-example)"
   ]
  }
 ],
 "metadata": {
  "kernelspec": {
   "display_name": "Bash",
   "language": "bash",
   "name": "bash"
  },
  "language_info": {
   "codemirror_mode": "shell",
   "file_extension": ".sh",
   "mimetype": "text/x-sh",
   "name": "bash"
  }
 },
 "nbformat": 4,
 "nbformat_minor": 4
}
