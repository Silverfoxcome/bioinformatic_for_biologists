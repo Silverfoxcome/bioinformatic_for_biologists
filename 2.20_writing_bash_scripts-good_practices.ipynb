{
 "cells": [
  {
   "cell_type": "markdown",
   "metadata": {},
   "source": [
    "# Writing Bash scripts - Good practices"
   ]
  },
  {
   "cell_type": "markdown",
   "metadata": {},
   "source": [
    "## 2.20. Track the Progress of Your Script and Redirect Script Outputs and Errors"
   ]
  },
  {
   "cell_type": "markdown",
   "metadata": {},
   "source": [
    "In this step you will learn about some ways to track the progress of your script and to **redirect script output to files**"
   ]
  },
  {
   "cell_type": "markdown",
   "metadata": {},
   "source": [
    "### Tracking the progress of your script"
   ]
  },
  {
   "cell_type": "markdown",
   "metadata": {},
   "source": [
    "There are many different ways in which we can track the progress of our scripts. \n",
    "\n",
    "The simplest is to **break your script down into sections and output a progress statement when you start and/or finish each section**.\n",
    "\n",
    "For example, let’s set our name as a variable and count the number of characters it contains."
   ]
  },
  {
   "cell_type": "code",
   "execution_count": null,
   "metadata": {},
   "outputs": [],
   "source": [
    "#!/usr/bin/env bash\n",
    " \n",
    "# Set your name as a variable\n",
    "name=\"Victoria\"\n",
    " \n",
    "echo \"Counting number of characters in name\"\n",
    "printf -- \"${name}\" | wc -m"
   ]
  },
  {
   "cell_type": "markdown",
   "metadata": {},
   "source": [
    "Now, while this may seem excessive given the simple example, it’s clear that once we start to build up our scripts, **adding progress statements will be invaluable**. \n",
    "\n",
    "Particularly when were discussing loops this week, where it’s possible for your scripts to get stuck in an infinite loop, failing to exit. In those situations, progress statements are absolutely **essential for debugging!**"
   ]
  },
  {
   "cell_type": "markdown",
   "metadata": {},
   "source": [
    "### I/O redirection"
   ]
  },
  {
   "cell_type": "markdown",
   "metadata": {},
   "source": [
    "To start understanding how these streams work, let’s look at redirecting the output from a script into a single file.\n",
    "\n",
    "Example script:"
   ]
  },
  {
   "cell_type": "code",
   "execution_count": null,
   "metadata": {},
   "outputs": [],
   "source": [
    "#!/usr/bin/env bash\n",
    " \n",
    "# A script that tries to change directory\n",
    " \n",
    "echo \"Changing to a directory that doesn't exist\"\n",
    "cd foo"
   ]
  },
  {
   "cell_type": "markdown",
   "metadata": {},
   "source": [
    "As you can see, our script returns the printed progress statement and an error that tells us that the directory we’re trying to migrate to doesn’t exist on our filesystem."
   ]
  },
  {
   "cell_type": "code",
   "execution_count": null,
   "metadata": {},
   "outputs": [],
   "source": [
    "./script.sh"
   ]
  },
  {
   "cell_type": "markdown",
   "metadata": {},
   "source": [
    "In the terminal:"
   ]
  },
  {
   "cell_type": "markdown",
   "metadata": {},
   "source": [
    "```\n",
    "Changing to a directory that doesn't exist ## ==> delivered via stdout\n",
    "script.sh: line 6: cd: foo: No such file or directory ## ==> delivered via stderr\n",
    "```"
   ]
  },
  {
   "cell_type": "markdown",
   "metadata": {},
   "source": [
    "These two messages are being delivered to the terminal by two different Linux streams. \n",
    "\n",
    "The first message, our progress statement, is delivered via **stdout**. Meanwhile, the error message is delivered via **stderr**.\n",
    "\n",
    "Now, let’s see what happens when we try to redirect the outputs from that script into a file called output.txt:"
   ]
  },
  {
   "cell_type": "code",
   "execution_count": null,
   "metadata": {},
   "outputs": [],
   "source": [
    "./script.sh > output.txt"
   ]
  },
  {
   "cell_type": "markdown",
   "metadata": {},
   "source": [
    "```\n",
    "./script.sh: line 6: cd: foo: No such file or directory\n",
    "```"
   ]
  },
  {
   "cell_type": "markdown",
   "metadata": {},
   "source": [
    "OK, so, we can see that the **stdout** has been **redirected to our output file** but, the *error is still being displayed*."
   ]
  },
  {
   "cell_type": "code",
   "execution_count": null,
   "metadata": {},
   "outputs": [],
   "source": [
    "cat output.txt"
   ]
  },
  {
   "cell_type": "markdown",
   "metadata": {},
   "source": [
    "```\n",
    "Changing to a directory that doesn't exist\n",
    "```"
   ]
  },
  {
   "cell_type": "markdown",
   "metadata": {},
   "source": [
    "Why is this? Well, when we use `>` to redirect to a file, by default, the system will **only redirect the stdout**.\n",
    "\n",
    "But, **what about our errors being delivered via stderr, how can we capture those?**\n",
    "\n",
    "To simplify things, let’s first look at **how to redirect stdout and stderr to two different files**. \n",
    "\n",
    "We’ll use the `>` symbol with our file descriptors (1 for stdout and 2 for stderr) to redirect our outputs to output.txt and our errors to error.txt respectively."
   ]
  },
  {
   "cell_type": "code",
   "execution_count": null,
   "metadata": {},
   "outputs": [],
   "source": [
    "./script.sh 1>output.txt 2>error.txt"
   ]
  },
  {
   "cell_type": "markdown",
   "metadata": {},
   "source": [
    "This command returns nothing back to our terminal. Using the cat command, we can see that, as expected, our outputs and errors have been written to *output.txt* and *error.txt* respectively."
   ]
  },
  {
   "cell_type": "markdown",
   "metadata": {},
   "source": [
    "* Our stdout (progress statement returned using echo): "
   ]
  },
  {
   "cell_type": "code",
   "execution_count": null,
   "metadata": {},
   "outputs": [],
   "source": [
    "cat output.txt "
   ]
  },
  {
   "cell_type": "markdown",
   "metadata": {},
   "source": [
    "```\n",
    "Changing to a directory that doesn’t exist\n",
    "```"
   ]
  },
  {
   "cell_type": "markdown",
   "metadata": {},
   "source": [
    "* And our stderr (errors):"
   ]
  },
  {
   "cell_type": "code",
   "execution_count": null,
   "metadata": {},
   "outputs": [],
   "source": [
    "cat error.txt"
   ]
  },
  {
   "cell_type": "markdown",
   "metadata": {},
   "source": [
    "```\n",
    "./script.sh: line 6: cd: foo: No such file or directory\n",
    "```"
   ]
  },
  {
   "cell_type": "markdown",
   "metadata": {},
   "source": [
    "In order to redirect the stdout and the stderr to the same place, we need to use a new term: `2>&1`. \n",
    "\n",
    "When we use this, we redirect using the same syntax as before, but add `2>&1` **to the end of our command**.\n",
    "\n",
    "This is how it works in practice:"
   ]
  },
  {
   "cell_type": "code",
   "execution_count": null,
   "metadata": {},
   "outputs": [],
   "source": [
    "./script.sh > combined_output.txt 2>&1"
   ]
  },
  {
   "cell_type": "markdown",
   "metadata": {},
   "source": [
    "Now, if we look at our combined output file, we can see that we’ve captured both the **stdout** and the **stderr**."
   ]
  },
  {
   "cell_type": "code",
   "execution_count": null,
   "metadata": {},
   "outputs": [],
   "source": [
    "cat combined_output.txt"
   ]
  },
  {
   "cell_type": "markdown",
   "metadata": {},
   "source": [
    "```\n",
    "Changing to a directory that doesn't exist ## ==> stdout\n",
    "./script.sh: line 6: cd: foo: No such file or directory ## ==> stderr\n",
    "```"
   ]
  },
  {
   "cell_type": "markdown",
   "metadata": {},
   "source": [
    "## 2.21. Writing Robust Bash Scripts "
   ]
  },
  {
   "cell_type": "markdown",
   "metadata": {},
   "source": [
    "### Using `set -e` to catch errors"
   ]
  },
  {
   "cell_type": "markdown",
   "metadata": {},
   "source": [
    "Fortunately, the `set -e` command comes to our rescue by ensuring that the script will fail whenever an error occurs, no matter the exit code. Try adding `set -e` to the top of your script:"
   ]
  },
  {
   "cell_type": "code",
   "execution_count": null,
   "metadata": {},
   "outputs": [],
   "source": [
    "#!/usr/bin/env bash\n",
    " \n",
    "set -e\n",
    " \n",
    "cd foo\n",
    "ls"
   ]
  },
  {
   "cell_type": "markdown",
   "metadata": {},
   "source": [
    "Bingo! This time, we can see that the script terminates as soon as it reaches the first error."
   ]
  },
  {
   "cell_type": "markdown",
   "metadata": {},
   "source": [
    "```\n",
    "script.sh: line 5: cd:foo: No such file or directory\n",
    "```"
   ]
  },
  {
   "cell_type": "markdown",
   "metadata": {},
   "source": [
    "### Using `set -u` to catch variables that don’t exist"
   ]
  },
  {
   "cell_type": "markdown",
   "metadata": {},
   "source": [
    "Notice that the system outputs a blank line for echo $foo. \n",
    "```\n",
    "This is because Bash is ignoring $foo as it doesn’t exist.\n",
    "```\n",
    "If we want the script to exit with an error instead of continuing on silently, we can add the `set -u` command **at the top of our script**."
   ]
  },
  {
   "cell_type": "code",
   "execution_count": null,
   "metadata": {},
   "outputs": [],
   "source": [
    "#!/usr/bin/env bash\n",
    " \n",
    "set -u\n",
    " \n",
    "echo $foo\n",
    "echo bar"
   ]
  },
  {
   "cell_type": "markdown",
   "metadata": {},
   "source": [
    "This will result in our script exiting with the following error:"
   ]
  },
  {
   "cell_type": "markdown",
   "metadata": {},
   "source": [
    "```\n",
    "script.sh: line 6:foo: unbound variable\n",
    "```"
   ]
  },
  {
   "cell_type": "markdown",
   "metadata": {},
   "source": [
    "Notice, our script terminates before running the second `echo` command."
   ]
  },
  {
   "cell_type": "markdown",
   "metadata": {},
   "source": [
    "### Displaying executed commands while script is running with `set -x`"
   ]
  },
  {
   "cell_type": "markdown",
   "metadata": {},
   "source": [
    "Another default Bash behaviour is to only display results once a script has finished. This can be especially frustrating when you need to debug scripts that take a long time to run.\n",
    "\n",
    "Let’s take an example script that outputs two simple strings, foo and bar."
   ]
  },
  {
   "cell_type": "code",
   "execution_count": null,
   "metadata": {},
   "outputs": [],
   "source": [
    "#!/usr/bin/env bash\n",
    " \n",
    "echo foo\n",
    "echo bar"
   ]
  },
  {
   "cell_type": "markdown",
   "metadata": {},
   "source": [
    "The output from this script would be:"
   ]
  },
  {
   "cell_type": "markdown",
   "metadata": {},
   "source": [
    "```\n",
    "foo\n",
    "bar\n",
    "```"
   ]
  },
  {
   "cell_type": "markdown",
   "metadata": {},
   "source": [
    "Now, what if we want to know which command is producing each of the results? \n",
    "\n",
    "To find this out, we can use the `set -x` command which **outputs the executed command before printing the command result**."
   ]
  },
  {
   "cell_type": "code",
   "execution_count": null,
   "metadata": {},
   "outputs": [],
   "source": [
    "#!/usr/bin/env bash\n",
    " \n",
    "set -x\n",
    " \n",
    "echo foo\n",
    "echo bar"
   ]
  },
  {
   "cell_type": "markdown",
   "metadata": {},
   "source": [
    "Running this script would give the following output:"
   ]
  },
  {
   "cell_type": "markdown",
   "metadata": {},
   "source": [
    "```\n",
    "+ echo foo\n",
    "foo\n",
    "+ echo bar\n",
    "bar\n",
    "```"
   ]
  },
  {
   "cell_type": "markdown",
   "metadata": {},
   "source": [
    "As you can see, before executing each of the echo commands, the script first prints the command to the terminal, **using a `+` to indicate that the output is a command**. This can be especially handy when you want to debug long scripts."
   ]
  },
  {
   "cell_type": "markdown",
   "metadata": {},
   "source": [
    "### Combining set options in a single command: `set -eux`"
   ]
  },
  {
   "cell_type": "markdown",
   "metadata": {},
   "source": [
    "Most of the time, you will want to use all of these options together. Instead of writing the commands out, one command per line, we can combine the options into a single command:"
   ]
  },
  {
   "cell_type": "code",
   "execution_count": null,
   "metadata": {},
   "outputs": [],
   "source": [
    "set -eux"
   ]
  },
  {
   "cell_type": "markdown",
   "metadata": {},
   "source": [
    "Using the set command is essential to building robust Bash scripts. Not only is it part of good scripting practices but, will also save you a lot of time and frustration!"
   ]
  },
  {
   "cell_type": "markdown",
   "metadata": {},
   "source": [
    "## Final Exercise - Use Bash Scripting to Parse Biological Data "
   ]
  },
  {
   "cell_type": "markdown",
   "metadata": {},
   "source": [
    "In this exercise we’re going to look at using Bash scripts to parse biological data. \n",
    "\n",
    "We’ll walk you through and explain the commands for parsing a single data file. \n",
    "\n",
    "Then, it will be up to you to write a Bash script to process all of the example data files."
   ]
  },
  {
   "cell_type": "markdown",
   "metadata": {},
   "source": [
    "The aim of this exercise is simply to run a program across three example data files to get the number of records it contains using the skills you’ve been developing in Week 1 and Week2."
   ]
  },
  {
   "cell_type": "markdown",
   "metadata": {},
   "source": [
    "### Store the output of a command in a variable"
   ]
  },
  {
   "cell_type": "markdown",
   "metadata": {},
   "source": [
    "We can store the output of a command as a variable using the following syntax:"
   ]
  },
  {
   "cell_type": "code",
   "execution_count": null,
   "metadata": {},
   "outputs": [],
   "source": [
    "variable=$(command)"
   ]
  },
  {
   "cell_type": "markdown",
   "metadata": {},
   "source": [
    "So, for our example command this would be:"
   ]
  },
  {
   "cell_type": "code",
   "execution_count": null,
   "metadata": {},
   "outputs": [],
   "source": [
    "alignments=$(samtools view -c sample_10000_11000.bam)"
   ]
  },
  {
   "cell_type": "markdown",
   "metadata": {},
   "source": [
    "Now, if we echo our variable, you will see it has the expected value:"
   ]
  },
  {
   "cell_type": "code",
   "execution_count": null,
   "metadata": {},
   "outputs": [],
   "source": [
    "echo ${alignments}"
   ]
  },
  {
   "cell_type": "markdown",
   "metadata": {},
   "source": [
    "```\n",
    "1947\n",
    "```"
   ]
  },
  {
   "cell_type": "markdown",
   "metadata": {},
   "source": [
    "### Task"
   ]
  },
  {
   "cell_type": "markdown",
   "metadata": {},
   "source": [
    "Using a Bash script, get the number of records for each of the three example data files.\n",
    "\n",
    "Some hints:\n",
    "\n",
    "* Use comments\n",
    "* Use the set command\n",
    "* Check whether each file is empty before running samtools\n",
    "* Use a loop – i.e. don’t run three samtools commands with hardcoded filenames, use wildcards (e.g. sample*.bam where * matches any string)\n",
    "* Return the filename and the number of records back to the user\n"
   ]
  },
  {
   "cell_type": "markdown",
   "metadata": {},
   "source": [
    "Option 1:"
   ]
  },
  {
   "cell_type": "code",
   "execution_count": null,
   "metadata": {},
   "outputs": [],
   "source": [
    "#!/usr/bin/env bash\n",
    "\n",
    "# stop at the first error\n",
    "# stop if a variable doesn't exist\n",
    "# display executed commands\n",
    "#set -eux\n",
    "\n",
    "# checking if the files are empty\n",
    "for file in ../data/week2/*.bam\n",
    "do\n",
    "    # returns true if file size is not > 0\n",
    "    if [[ ! -s \"${file}\" ]]; then\n",
    "        echo \"The file ${file} is empty\"\n",
    "    #else\n",
    "    #    echo \"The file ${file} is not empty\"\n",
    "    fi\n",
    "done\n",
    "\n",
    "# stop at the first error\n",
    "# stop if a variable doesn't exist\n",
    "# display executed commands\n",
    "#set -eux\n",
    "#set -eu\n",
    "\n",
    "\n",
    "# count number of alignments of each file using samtools\n",
    "\n",
    "for file in ../data/week2/*.bam\n",
    "do\n",
    "    alignments=$(samtools view -c \"${file}\")\n",
    "    echo \"The file ${file} has ${alignments} alignments\"\n",
    "done"
   ]
  },
  {
   "cell_type": "markdown",
   "metadata": {},
   "source": [
    "Option 2:"
   ]
  },
  {
   "cell_type": "code",
   "execution_count": null,
   "metadata": {},
   "outputs": [],
   "source": [
    "#!/usr/bin/env bash\n",
    "\n",
    "# Description:\n",
    "# This script checks if the file is not empty and then\n",
    "# counts the number of alingments in each bam file.\n",
    "\n",
    "# stop at the first error and stop if a variable doesn't exist\n",
    "set -eu\n",
    "\n",
    "# main code: 2 things will be done in each iteration of the for loop.\n",
    "\n",
    "for file in ../data/week2/*.bam\n",
    "do\n",
    "    # 1. Check if the file is not empty.\n",
    "    # i.e. if file size is not > 0, print message about that empty file.\n",
    "    if [[ ! -s \"${file}\" ]]; then\n",
    "        echo \"The file ${file} is empty.\"\n",
    "    fi\n",
    "\n",
    "    # 2. Count number of alignments in each bam file\n",
    "    alignments=$(samtools view -c \"${file}\")\n",
    "    # message to the user\n",
    "    echo \"The file ${file} has ${alignments} alignments.\"\n",
    "\n",
    "done"
   ]
  },
  {
   "cell_type": "markdown",
   "metadata": {},
   "source": [
    "**Option 3**: Here, nothing is harcoded. The script only needs as first argument the path to the directory of bam files."
   ]
  },
  {
   "cell_type": "code",
   "execution_count": null,
   "metadata": {},
   "outputs": [],
   "source": [
    "#!/usr/bin/env bash\n",
    "\n",
    "# Description:\n",
    "# This scripts takes the path to a directory passed as first argument.\n",
    "# (To have anything hardcoded)\n",
    "# Check if the files in that directory are not empty\n",
    "# Counts the number of alingments in each bam file.\n",
    "\n",
    "# Path to the directory of bam files\n",
    "directory=$1\n",
    "\n",
    "# stop at the first error and stop if a variable doesn't exist\n",
    "set -eu\n",
    "\n",
    "# main code: 2 things will be done in each iteration of the for loop.\n",
    "\n",
    "for file in \"${directory}\"/*.bam\n",
    "do\n",
    "    # 1. Check if the file is not empty.\n",
    "    # i.e. if file size is not > 0, print message about that empty file.\n",
    "    if [[ ! -s \"${file}\" ]]; then\n",
    "        echo \"The file ${file} is empty.\"\n",
    "    fi\n",
    "\n",
    "    # 2. Count number of alignments in each bam file\n",
    "    alignments=$(samtools view -c \"${file}\")\n",
    "    # message to the user\n",
    "    echo \"The file ${file} has ${alignments} alignments.\"\n",
    "\n",
    "done"
   ]
  },
  {
   "cell_type": "code",
   "execution_count": null,
   "metadata": {},
   "outputs": [],
   "source": [
    "./alig3.sh ../data/week2"
   ]
  },
  {
   "cell_type": "markdown",
   "metadata": {},
   "source": [
    "```\n",
    "The file ../data/week2/sample_10000_11000.bam has 1947 alignments.\n",
    "The file ../data/week2/sample_11000_12000.bam has 123 alignments.\n",
    "The file ../data/week2/sample_12000_13000.bam has 276 alignments.\n",
    "```"
   ]
  },
  {
   "cell_type": "code",
   "execution_count": null,
   "metadata": {},
   "outputs": [],
   "source": [
    "./alig3.sh \"../data/week2\""
   ]
  },
  {
   "cell_type": "markdown",
   "metadata": {},
   "source": [
    "```\n",
    "The file ../data/week2/sample_10000_11000.bam has 1947 alignments.\n",
    "The file ../data/week2/sample_11000_12000.bam has 123 alignments.\n",
    "The file ../data/week2/sample_12000_13000.bam has 276 alignments.\n",
    "```"
   ]
  },
  {
   "cell_type": "markdown",
   "metadata": {},
   "source": [
    "Option 4: Adding a line to track the progress of my script"
   ]
  },
  {
   "cell_type": "code",
   "execution_count": null,
   "metadata": {},
   "outputs": [],
   "source": [
    "#!/usr/bin/env bash\n",
    "\n",
    "# Description:\n",
    "# This scripts takes the path to a directory passed as first argument.\n",
    "# (To have anything hardcoded)\n",
    "# Check if the files in that directory are not empty\n",
    "# Counts the number of alingments in each bam file.\n",
    "\n",
    "# Path to the directory of bam files\n",
    "directory=$1\n",
    "\n",
    "# stop at the first error and stop if a variable doesn't exist\n",
    "set -eu\n",
    "\n",
    "# main code: 2 things will be done in each iteration of the for loop.\n",
    "\n",
    "for file in \"${directory}\"/*.bam\n",
    "do\n",
    "    # 1. Check if the file is not empty.\n",
    "    # i.e. if file size is not > 0, print message about that empty file.\n",
    "    if [[ ! -s \"${file}\" ]]; then\n",
    "        echo \"The file ${file} is empty.\"\n",
    "    fi\n",
    "\n",
    "    # 2. Count number of alignments in each bam file\n",
    "    # Tracking the progress of my script\n",
    "    echo \"Processing file ${file}...\"\n",
    "    alignments=$(samtools view -c \"${file}\")\n",
    "    # message to the user\n",
    "    echo \"The file ${file} has ${alignments} alignments.\"\n",
    "\n",
    "done"
   ]
  }
 ],
 "metadata": {
  "kernelspec": {
   "display_name": "Bash",
   "language": "bash",
   "name": "bash"
  },
  "language_info": {
   "codemirror_mode": "shell",
   "file_extension": ".sh",
   "mimetype": "text/x-sh",
   "name": "bash"
  }
 },
 "nbformat": 4,
 "nbformat_minor": 4
}
