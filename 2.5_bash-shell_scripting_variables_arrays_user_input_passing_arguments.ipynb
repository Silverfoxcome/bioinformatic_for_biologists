{
 "cells": [
  {
   "cell_type": "markdown",
   "metadata": {},
   "source": [
    "## week 2"
   ]
  },
  {
   "cell_type": "markdown",
   "metadata": {},
   "source": [
    "# Bash / Shell scripting"
   ]
  },
  {
   "cell_type": "code",
   "execution_count": 1,
   "metadata": {},
   "outputs": [
    {
     "name": "stdout",
     "output_type": "stream",
     "text": [
      "/bin/bash\n"
     ]
    }
   ],
   "source": [
    "echo $SHELL"
   ]
  },
  {
   "cell_type": "markdown",
   "metadata": {},
   "source": [
    "This will return the full path of your interpreter. If your interpreter is Bash you will `/bin/bash` path "
   ]
  },
  {
   "cell_type": "markdown",
   "metadata": {},
   "source": [
    "You can get a full list if the shells that are available on your system by running:"
   ]
  },
  {
   "cell_type": "code",
   "execution_count": 2,
   "metadata": {},
   "outputs": [
    {
     "name": "stdout",
     "output_type": "stream",
     "text": [
      "# /etc/shells: valid login shells\n",
      "/bin/sh\n",
      "/bin/dash\n",
      "/bin/bash\n",
      "/bin/rbash\n",
      "/bin/ksh93\n",
      "/bin/rksh93\n"
     ]
    }
   ],
   "source": [
    "cat /etc/shells"
   ]
  },
  {
   "cell_type": "markdown",
   "metadata": {},
   "source": [
    "If you like a particular shell and want to make the change permanent (i.e. set in all future terminals by default), you can use the chsh command with the -s option (bypassing the editor) and the path to the interpreter you want to use."
   ]
  },
  {
   "cell_type": "markdown",
   "metadata": {},
   "source": [
    "```\n",
    "chsh -s /bin/bash\n",
    "```"
   ]
  },
  {
   "cell_type": "markdown",
   "metadata": {},
   "source": [
    "## Variables and their scope"
   ]
  },
  {
   "cell_type": "markdown",
   "metadata": {},
   "source": [
    "[link](https://www.futurelearn.com/courses/linux-for-bioinformatics/1/steps/1039627/comments?filter=everyone&sort=most_liked)"
   ]
  },
  {
   "cell_type": "markdown",
   "metadata": {},
   "source": [
    "Bash variables provide temporary storage for information. You can use them to store words/phrases (strings), decimals or integers."
   ]
  },
  {
   "cell_type": "code",
   "execution_count": 3,
   "metadata": {},
   "outputs": [],
   "source": [
    "name=\"Maciel\""
   ]
  },
  {
   "cell_type": "markdown",
   "metadata": {},
   "source": [
    "**BE CAREFUL!** When you assign a value to a variable, there should not be any spaces on either side of the = symbol."
   ]
  },
  {
   "cell_type": "markdown",
   "metadata": {},
   "source": [
    "When we want to access a variable, we need to use the `$` symbol to reference it:"
   ]
  },
  {
   "cell_type": "code",
   "execution_count": 4,
   "metadata": {},
   "outputs": [
    {
     "name": "stdout",
     "output_type": "stream",
     "text": [
      "Maciel\n"
     ]
    }
   ],
   "source": [
    "echo $name"
   ]
  },
  {
   "cell_type": "markdown",
   "metadata": {},
   "source": [
    "This also works:"
   ]
  },
  {
   "cell_type": "code",
   "execution_count": 5,
   "metadata": {},
   "outputs": [
    {
     "name": "stdout",
     "output_type": "stream",
     "text": [
      "Maciel\n"
     ]
    }
   ],
   "source": [
    "echo ${name}"
   ]
  },
  {
   "cell_type": "markdown",
   "metadata": {},
   "source": [
    "Because our variables may contain whitespace which gets interpreted by bash, it’s **good practice** to wrap the variable name in curly brackets and encase it in double quotes:"
   ]
  },
  {
   "cell_type": "code",
   "execution_count": 6,
   "metadata": {},
   "outputs": [
    {
     "name": "stdout",
     "output_type": "stream",
     "text": [
      "Maciel\n"
     ]
    }
   ],
   "source": [
    "echo \"${name}\""
   ]
  },
  {
   "cell_type": "code",
   "execution_count": 7,
   "metadata": {},
   "outputs": [
    {
     "name": "stdout",
     "output_type": "stream",
     "text": [
      "Maciel Good evening\n"
     ]
    }
   ],
   "source": [
    "greetings=\"Good evening\"\n",
    "\n",
    "echo \"${name} ${greetings}\""
   ]
  },
  {
   "cell_type": "code",
   "execution_count": 9,
   "metadata": {},
   "outputs": [
    {
     "name": "stdout",
     "output_type": "stream",
     "text": [
      "Rommel is the best brother\n"
     ]
    }
   ],
   "source": [
    "#!/bin/bash\n",
    "\n",
    "name2=\"Rommel\"\n",
    "trues=\"is the best brother\"\n",
    "\n",
    "echo \"${name2} ${trues}\""
   ]
  },
  {
   "cell_type": "markdown",
   "metadata": {},
   "source": [
    "## Variable scope"
   ]
  },
  {
   "cell_type": "markdown",
   "metadata": {},
   "source": [
    "### Local variables\n",
    "\n",
    "The scope of the variable is constrained to the script itself and its value is not accessible outside of that script.\n",
    "\n",
    "The same principle is true for functions, which we will look at later in the week."
   ]
  },
  {
   "cell_type": "markdown",
   "metadata": {},
   "source": [
    "### Global variables\n",
    "\n",
    "In Week 1 we introduced you to **global variables, also known as environment variables**, that are available to all shells. \n",
    "\n",
    "You can recall global variables within your Bash scripts."
   ]
  },
  {
   "cell_type": "markdown",
   "metadata": {},
   "source": [
    "Let’s print our current working directory by recalling the value of the global variable, PWD from within our script:"
   ]
  },
  {
   "cell_type": "code",
   "execution_count": 12,
   "metadata": {},
   "outputs": [
    {
     "name": "stdout",
     "output_type": "stream",
     "text": [
      "/media/koala/windiskc/prog/bash/b4b/jn\n",
      "/media/koala/windiskc/prog/bash/b4b/jn\n"
     ]
    }
   ],
   "source": [
    "#!/usr/bin/env bash\n",
    "\n",
    "echo $PWD\n",
    "echo \"${PWD}\""
   ]
  },
  {
   "cell_type": "markdown",
   "metadata": {},
   "source": [
    "Both give the same but it is good practice to call our variables like this `\"${variable_name}\"`"
   ]
  },
  {
   "cell_type": "markdown",
   "metadata": {},
   "source": [
    "## Creating Global variables using the `export` command"
   ]
  },
  {
   "cell_type": "markdown",
   "metadata": {},
   "source": [
    "You can create your own global variables by using the **export** command. \n",
    "\n",
    "First let’s declare a variable that contains a name:"
   ]
  },
  {
   "cell_type": "code",
   "execution_count": 13,
   "metadata": {},
   "outputs": [],
   "source": [
    "SISTER=\"gloria\""
   ]
  },
  {
   "cell_type": "markdown",
   "metadata": {},
   "source": [
    "Next, let’s create a script that tries to access this variable:"
   ]
  },
  {
   "cell_type": "code",
   "execution_count": null,
   "metadata": {},
   "outputs": [],
   "source": [
    "#!/usr/bin/bash\n",
    "\n",
    "echo \"The name of my older sister is: ${SISTER}\""
   ]
  },
  {
   "cell_type": "markdown",
   "metadata": {},
   "source": [
    "If we were to run this script, we wouldn’t see the name \"gloria\" called by the SISTER variable."
   ]
  },
  {
   "cell_type": "markdown",
   "metadata": {},
   "source": [
    "```\n",
    "The name of my older sister is:        \n",
    "```"
   ]
  },
  {
   "cell_type": "markdown",
   "metadata": {},
   "source": [
    "This is because the SISTER variable we created **was only a local variable** and therefore **not accessible within our script**."
   ]
  },
  {
   "cell_type": "markdown",
   "metadata": {},
   "source": [
    "However, if we use the `export` command, we can declare SISTER as a global variable which is accessible in our script:"
   ]
  },
  {
   "cell_type": "code",
   "execution_count": null,
   "metadata": {},
   "outputs": [],
   "source": [
    "export SISTER=\"gloria\""
   ]
  },
  {
   "cell_type": "markdown",
   "metadata": {},
   "source": [
    "Our script would then output:"
   ]
  },
  {
   "cell_type": "markdown",
   "metadata": {},
   "source": [
    "```\n",
    "The name of my older sister is: gloria       \n",
    "```"
   ]
  },
  {
   "cell_type": "markdown",
   "metadata": {},
   "source": [
    "## Bash arrays"
   ]
  },
  {
   "cell_type": "markdown",
   "metadata": {},
   "source": [
    "In the previous step we introduced you to Bash variables which can be used to hold temporary information. A variable holds a single value under a single name. By contrast, a Bash array can hold multiple values under a single name."
   ]
  },
  {
   "cell_type": "markdown",
   "metadata": {},
   "source": [
    "You can initialise an array by assigning values that are separated by spaces in standard brackets."
   ]
  },
  {
   "cell_type": "code",
   "execution_count": 15,
   "metadata": {},
   "outputs": [],
   "source": [
    "array=(\"v1\" \"v2\" \"v3\")"
   ]
  },
  {
   "cell_type": "markdown",
   "metadata": {},
   "source": [
    "Remember, there should be no spaces on either side of the = symbol.\n",
    "\n",
    "Each value in an array is known as an **element**. Each element in an array is referenced by a numerical index. This index starts at 0.\n",
    "\n",
    "The syntax to access the first value in our array would be:"
   ]
  },
  {
   "cell_type": "markdown",
   "metadata": {},
   "source": [
    "```\n",
    "echo \"${array[0]}\"\n",
    "```"
   ]
  },
  {
   "cell_type": "code",
   "execution_count": 17,
   "metadata": {},
   "outputs": [
    {
     "name": "stdout",
     "output_type": "stream",
     "text": [
      "v1\n"
     ]
    }
   ],
   "source": [
    "echo \"${array[0]}\""
   ]
  },
  {
   "cell_type": "code",
   "execution_count": 18,
   "metadata": {},
   "outputs": [
    {
     "name": "stdout",
     "output_type": "stream",
     "text": [
      "v2\n"
     ]
    }
   ],
   "source": [
    "echo \"${array[1]}\""
   ]
  },
  {
   "cell_type": "code",
   "execution_count": 16,
   "metadata": {
    "scrolled": false
   },
   "outputs": [
    {
     "name": "stdout",
     "output_type": "stream",
     "text": [
      "v3\n"
     ]
    }
   ],
   "source": [
    "echo \"${array[2]}\""
   ]
  },
  {
   "cell_type": "markdown",
   "metadata": {},
   "source": [
    "### To call the last element of an array"
   ]
  },
  {
   "cell_type": "code",
   "execution_count": 21,
   "metadata": {},
   "outputs": [
    {
     "name": "stdout",
     "output_type": "stream",
     "text": [
      "v3\n"
     ]
    }
   ],
   "source": [
    "echo \"${array[-1]}\""
   ]
  },
  {
   "cell_type": "markdown",
   "metadata": {},
   "source": [
    "### Call all the values in the array"
   ]
  },
  {
   "cell_type": "markdown",
   "metadata": {},
   "source": [
    "We can return all of the values in our array by using the `@` symbol inside the brackets:"
   ]
  },
  {
   "cell_type": "code",
   "execution_count": 19,
   "metadata": {},
   "outputs": [
    {
     "name": "stdout",
     "output_type": "stream",
     "text": [
      "v1 v2 v3\n"
     ]
    }
   ],
   "source": [
    "echo \"${array[@]}\""
   ]
  },
  {
   "cell_type": "markdown",
   "metadata": {},
   "source": [
    "### Count number of elements in the array"
   ]
  },
  {
   "cell_type": "markdown",
   "metadata": {},
   "source": [
    "To count the number of elements in our array, we can prepend the array name with the `#` sign. In this case, we have 3 elements in our array:"
   ]
  },
  {
   "cell_type": "code",
   "execution_count": 20,
   "metadata": {},
   "outputs": [
    {
     "name": "stdout",
     "output_type": "stream",
     "text": [
      "3\n"
     ]
    }
   ],
   "source": [
    "echo \"${#array[@]}\""
   ]
  },
  {
   "cell_type": "markdown",
   "metadata": {},
   "source": [
    "## Task"
   ]
  },
  {
   "cell_type": "markdown",
   "metadata": {},
   "source": [
    "Write a Bash script in which you:\n",
    "\n",
    "    1. Create an array called fruits which contains: pineapple, peach, raspberry, plum, apple and kiwi\n",
    "    2. Output the number of elements in the fruit array\n",
    "    3. Output the last element of the fruit array\n"
   ]
  },
  {
   "cell_type": "code",
   "execution_count": 25,
   "metadata": {},
   "outputs": [
    {
     "name": "stdout",
     "output_type": "stream",
     "text": [
      "The number of elements in the fruit array is: 6\n",
      "The last element of the fruit array is: kiwi\n",
      "Las element of the fruit array: kiwi\n"
     ]
    }
   ],
   "source": [
    "#!/usr/bin/env bash\n",
    "\n",
    "# creating the fruit array\n",
    "fruits=(\"pineapple\" \"peach\" \"raspberry\" \"plum\" \"apple\" \"kiwi\")\n",
    "\n",
    "# number of elements\n",
    "echo \"The number of elements in the fruit array is: ${#fruits[@]}\"\n",
    "\n",
    "# Just like in python, the index of the last element is also -1\n",
    "echo \"The last element of the fruit array is: ${fruits[-1]}\"\n",
    "\n",
    "# another way to call the last element\n",
    "echo \"Las element of the fruit array: ${fruits[${#fruits[@]} - 1]}\"\n",
    "## the index of the last element is: total number of elements - 1\n",
    "## total number of elements: ${#fruits[@]}"
   ]
  },
  {
   "cell_type": "markdown",
   "metadata": {},
   "source": [
    "### Capture user input with `read` command"
   ]
  },
  {
   "cell_type": "code",
   "execution_count": 26,
   "metadata": {},
   "outputs": [
    {
     "name": "stdout",
     "output_type": "stream",
     "text": [
      "\r\n"
     ]
    }
   ],
   "source": [
    "#!/usr/bin/env bash\n",
    "\n",
    "# reques the user to give input in the terminal\n",
    "echo \"Please enter your name.\"\n",
    "\n",
    "# the read command captures the user input in the name variable\n",
    "read name\n",
    "## when we declare the name variable for the first time, we don't need to use $ as prefix \n",
    "\n",
    "# return the user input we stored in the name variable\n",
    "echo \"Hello ${name}, it's so nice to finally meet you\""
   ]
  },
  {
   "cell_type": "markdown",
   "metadata": {},
   "source": [
    "I give my name: Maciel"
   ]
  },
  {
   "cell_type": "markdown",
   "metadata": {},
   "source": [
    "```\n",
    "Hello Maciel, it's so nice to finally meet you\n",
    "```"
   ]
  },
  {
   "cell_type": "markdown",
   "metadata": {},
   "source": [
    "### Using `read` to capture multiple inputs"
   ]
  },
  {
   "cell_type": "code",
   "execution_count": null,
   "metadata": {},
   "outputs": [],
   "source": [
    "#!/usr/bin/env bash\n",
    "\n",
    "# Ask input from user\n",
    "echo \"what are your 2 favorite foods?\"\n",
    "\n",
    "# capture inputs with read command\n",
    "read food1 food2\n",
    "\n",
    "# return user inputs that we store in the variables\n",
    "echo \"Your favorite foods are: ${food1} and ${food2}\""
   ]
  },
  {
   "cell_type": "markdown",
   "metadata": {},
   "source": [
    "### `read` command `-p` and `-s` options"
   ]
  },
  {
   "cell_type": "code",
   "execution_count": null,
   "metadata": {},
   "outputs": [],
   "source": [
    "#!/usr/bin/env bash\n",
    "\n",
    "# -p option to display a message before the input is read\n",
    "read -p \"Enter your username: \" username \n",
    "## username is the variable where input will be stored\n",
    "\n",
    "# -s option will keep the user input hidden\n",
    "read -sp \"Enter your password: \" password\n",
    "## password is the variable where this second input will be stored\n",
    "\n",
    "# printing both stored variables\n",
    "echo -e \"\\nHi ${username}, your password is ${password}\""
   ]
  },
  {
   "cell_type": "markdown",
   "metadata": {},
   "source": [
    "In line 8, when the option is `-ps` instead of `-sp` I got the following **error message**: "
   ]
  },
  {
   "cell_type": "markdown",
   "metadata": {},
   "source": [
    "```\n",
    "Enter your username: mac\n",
    "bash_script4_login.sh: line 8: read: `Enter your password: ': not a valid identifier\n",
    "\n",
    "Hi mac, your password is\n",
    "```"
   ]
  },
  {
   "cell_type": "markdown",
   "metadata": {},
   "source": [
    "The script works with the options `-sp` **in that order**"
   ]
  },
  {
   "cell_type": "markdown",
   "metadata": {},
   "source": [
    "## Passing Command Line Arguments to Bash Scripts"
   ]
  },
  {
   "cell_type": "markdown",
   "metadata": {},
   "source": [
    "[link](https://www.futurelearn.com/courses/linux-for-bioinformatics/1/steps/1039682)"
   ]
  },
  {
   "cell_type": "code",
   "execution_count": null,
   "metadata": {},
   "outputs": [],
   "source": [
    "# https://www.coursera.org/learn/version-control-with-git/home/welcome\n",
    "# https://www.coursera.org/learn/introduction-git-github/lecture/2xrXl/first-steps-with-git"
   ]
  },
  {
   "cell_type": "markdown",
   "metadata": {},
   "source": [
    "***A command line argument is a parameter** that we can supply to our Bash script at execution. They allow a user to dynamically affect the actions your script will perform or the output it will generate.\n",
    "\n",
    "To pass an argument to your Bash script, your just need to write it after the name of your script:\n",
    "\n",
    "```\n",
    "./fruit.sh my_argument\n",
    "```"
   ]
  },
  {
   "cell_type": "code",
   "execution_count": null,
   "metadata": {},
   "outputs": [],
   "source": [
    "#!/usr/bin/env bash\n",
    "\n",
    "echo \"The first fruit is: $1\"\n",
    "echo \"The second fruit is: $2\"\n",
    "echo \"The third fruit is: $3\"\n",
    "\n",
    "echo \"All the fruits are $@\""
   ]
  },
  {
   "cell_type": "code",
   "execution_count": null,
   "metadata": {},
   "outputs": [],
   "source": [
    "chmod u+x fruits.sh"
   ]
  },
  {
   "cell_type": "code",
   "execution_count": null,
   "metadata": {},
   "outputs": [],
   "source": [
    "./fruits.sh orange pine grape"
   ]
  },
  {
   "cell_type": "markdown",
   "metadata": {},
   "source": [
    "The arguments that I'm passing to my script in the command line will be captured:\n",
    "\n",
    "```\n",
    "$1 == orange\n",
    "$2 == pine\n",
    "$3 == grape\n",
    "```\n",
    "\n",
    "Resulting in the following output:"
   ]
  },
  {
   "cell_type": "markdown",
   "metadata": {},
   "source": [
    "```\n",
    "The first fruit is: orange\n",
    "The second fruit is: pine\n",
    "The third fruit is: grape\n",
    "All the fruits are orange pine grape\n",
    "```"
   ]
  },
  {
   "cell_type": "code",
   "execution_count": null,
   "metadata": {},
   "outputs": [],
   "source": []
  },
  {
   "cell_type": "code",
   "execution_count": null,
   "metadata": {},
   "outputs": [],
   "source": []
  }
 ],
 "metadata": {
  "kernelspec": {
   "display_name": "Bash",
   "language": "bash",
   "name": "bash"
  },
  "language_info": {
   "codemirror_mode": "shell",
   "file_extension": ".sh",
   "mimetype": "text/x-sh",
   "name": "bash"
  }
 },
 "nbformat": 4,
 "nbformat_minor": 4
}
