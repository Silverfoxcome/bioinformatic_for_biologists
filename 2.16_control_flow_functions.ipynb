{
 "cells": [
  {
   "cell_type": "markdown",
   "metadata": {},
   "source": [
    "# Control flow in bash and Bash functions"
   ]
  },
  {
   "cell_type": "markdown",
   "metadata": {},
   "source": [
    "## For loops"
   ]
  },
  {
   "cell_type": "markdown",
   "metadata": {},
   "source": [
    "[Class](https://www.futurelearn.com/courses/linux-for-bioinformatics/1/steps/1039698)"
   ]
  },
  {
   "cell_type": "code",
   "execution_count": null,
   "metadata": {},
   "outputs": [],
   "source": [
    "fruits=\"apples pears oranges\""
   ]
  },
  {
   "cell_type": "markdown",
   "metadata": {},
   "source": [
    "It seems the variable name must go without spaces with the symbol `=`"
   ]
  },
  {
   "cell_type": "code",
   "execution_count": null,
   "metadata": {},
   "outputs": [],
   "source": [
    "for fruit in ${fruits} # there is no :\n",
    "\n",
    "# do, actions, done\n",
    "\n",
    "do\n",
    "    echo ${fruit}\n",
    "done"
   ]
  },
  {
   "cell_type": "code",
   "execution_count": null,
   "metadata": {},
   "outputs": [],
   "source": [
    "for fruit in \"${fruits}\"; do\n",
    "    echo \"${fruit}\"\n",
    "done"
   ]
  },
  {
   "cell_type": "code",
   "execution_count": null,
   "metadata": {},
   "outputs": [],
   "source": [
    "for fruit in \"apples pears oranges\"; do\n",
    "    echo \"${fruit}\"\n",
    "done"
   ]
  },
  {
   "cell_type": "code",
   "execution_count": null,
   "metadata": {},
   "outputs": [],
   "source": [
    "for fruit in \"apples pears oranges\" my cat is so cute; do\n",
    "    echo \"${fruit}\"\n",
    "done"
   ]
  },
  {
   "cell_type": "code",
   "execution_count": null,
   "metadata": {},
   "outputs": [],
   "source": [
    "for fruit in \"apples pears oranges\" \"my cat is so cute\"; do\n",
    "    echo \"${fruit}\"\n",
    "done"
   ]
  },
  {
   "cell_type": "code",
   "execution_count": null,
   "metadata": {},
   "outputs": [],
   "source": [
    "for fruit in apples pears oranges; do\n",
    "    echo \"${fruit}\"\n",
    "done"
   ]
  },
  {
   "cell_type": "code",
   "execution_count": null,
   "metadata": {},
   "outputs": [],
   "source": [
    "for fruit in ${fruits}; do\n",
    "    echo \"${fruit}\"\n",
    "done"
   ]
  },
  {
   "cell_type": "markdown",
   "metadata": {},
   "source": [
    "### Iterate over a series of numbers"
   ]
  },
  {
   "cell_type": "markdown",
   "metadata": {},
   "source": [
    "We can also use a for loop to iterate over a series of numbers. \n",
    "\n",
    "In this example, we’ll process the numbers 1 – 3 using a sequence expression. \n",
    "\n",
    "Here, you’ll see the range is specified by a beginning number (1) and an ending number (3) separated by `..`\n",
    "\n",
    "This indicates that we want the sequence of numbers from the beginning to the ending number **inclusive** i.e. 1, 2 and 3."
   ]
  },
  {
   "cell_type": "code",
   "execution_count": null,
   "metadata": {},
   "outputs": [],
   "source": [
    "for i in {1..3}\n",
    "\n",
    "# do, actions, done\n",
    "\n",
    "do\n",
    "    echo ${i}\n",
    "done"
   ]
  },
  {
   "cell_type": "markdown",
   "metadata": {},
   "source": [
    "### List all the files in the current working directory"
   ]
  },
  {
   "cell_type": "markdown",
   "metadata": {},
   "source": [
    "A common use of for loops is to iterate over the contents of a directory. \n",
    "\n",
    "Here is an example of how to list all files in the current directory:"
   ]
  },
  {
   "cell_type": "code",
   "execution_count": null,
   "metadata": {},
   "outputs": [],
   "source": [
    "for file in *\n",
    "\n",
    "# do, actions, done\n",
    "\n",
    "do\n",
    "    echo ${file}\n",
    "done"
   ]
  },
  {
   "cell_type": "markdown",
   "metadata": {},
   "source": [
    "Here we use `*` as a wildcard to ask for **all files and directories**. \n",
    "\n",
    "We could extend this to look text files:"
   ]
  },
  {
   "cell_type": "markdown",
   "metadata": {},
   "source": [
    "### Iterate over content of text files"
   ]
  },
  {
   "cell_type": "code",
   "execution_count": null,
   "metadata": {
    "scrolled": true
   },
   "outputs": [],
   "source": [
    "for file in ../data/week1/*.txt\n",
    "\n",
    "do\n",
    "    echo ${file}\n",
    "done"
   ]
  },
  {
   "cell_type": "markdown",
   "metadata": {},
   "source": [
    "This would return only those files that have a `.txt` file extension."
   ]
  },
  {
   "cell_type": "markdown",
   "metadata": {},
   "source": [
    "### for loop syntax that uses three expressions"
   ]
  },
  {
   "cell_type": "markdown",
   "metadata": {},
   "source": [
    "Finally, we’ll introduce you to the for loop syntax that uses three expressions: \n",
    "\n",
    "* an initial value, \n",
    "* a terminal value and \n",
    "* an increment/decrement. \n",
    "\n",
    "Notice here that the increment uses the `++` notation which simply **means add 1**."
   ]
  },
  {
   "cell_type": "code",
   "execution_count": null,
   "metadata": {},
   "outputs": [],
   "source": [
    "for (( i=1; i<=3; i++ ))\n",
    "\n",
    "do\n",
    "    echo ${i}\n",
    "done"
   ]
  },
  {
   "cell_type": "markdown",
   "metadata": {},
   "source": [
    "This example returns the same output as our earlier number series."
   ]
  },
  {
   "cell_type": "markdown",
   "metadata": {},
   "source": [
    "```\n",
    "for ((INITIALIZATION; TEST; STEP))\n",
    "do\n",
    "  [COMMANDS]\n",
    "done\n",
    "```"
   ]
  },
  {
   "cell_type": "markdown",
   "metadata": {},
   "source": [
    "### Task"
   ]
  },
  {
   "cell_type": "markdown",
   "metadata": {},
   "source": [
    "Create a for loop which iterates from 1 to 5 in increments of 1. \n",
    "\n",
    "If the value is 2 return “fizz” otherwise, return “buzz”."
   ]
  },
  {
   "cell_type": "markdown",
   "metadata": {},
   "source": [
    "### Structure of conditional statement"
   ]
  },
  {
   "cell_type": "markdown",
   "metadata": {},
   "source": [
    "```\n",
    "if [[ condition ]]; then\n",
    "    command\n",
    "fi\n",
    "```"
   ]
  },
  {
   "cell_type": "markdown",
   "metadata": {},
   "source": [
    "Adding else"
   ]
  },
  {
   "cell_type": "markdown",
   "metadata": {},
   "source": [
    "```\n",
    "if [[ condition ]]; then\n",
    "    command\n",
    "else\n",
    "    command\n",
    "fi\n",
    "```"
   ]
  },
  {
   "cell_type": "code",
   "execution_count": null,
   "metadata": {
    "scrolled": true
   },
   "outputs": [],
   "source": [
    "for i in {1..5}\n",
    "\n",
    "do\n",
    "    \n",
    "    echo ${i}\n",
    "    \n",
    "    if [[ ${i} == 2 ]]; then\n",
    "        echo \"fizz\"\n",
    "    else\n",
    "        echo \"buzz\"\n",
    "    fi\n",
    "    \n",
    "done"
   ]
  },
  {
   "cell_type": "code",
   "execution_count": null,
   "metadata": {},
   "outputs": [],
   "source": [
    "for (( i=1; i<=5; i++ ))\n",
    "\n",
    "do\n",
    "    echo ${i}\n",
    "done"
   ]
  },
  {
   "cell_type": "code",
   "execution_count": null,
   "metadata": {},
   "outputs": [],
   "source": [
    "for i in {1..5}\n",
    "\n",
    "do\n",
    "    \n",
    "    echo ${i}\n",
    "    \n",
    "    if [ ${i} == 2 ]; then\n",
    "        echo \"fizz\"\n",
    "    else\n",
    "        echo \"buzz\"\n",
    "    fi\n",
    "    \n",
    "done"
   ]
  },
  {
   "cell_type": "markdown",
   "metadata": {},
   "source": [
    "Remember:\n",
    "\n",
    "* sh doesn't understand [[                     ]] command (double square bracket)\n",
    "* sh understand `test` command\n"
   ]
  },
  {
   "cell_type": "markdown",
   "metadata": {},
   "source": [
    "* bash (most modern) understand [  ] and test "
   ]
  },
  {
   "cell_type": "markdown",
   "metadata": {},
   "source": [
    "test command = [      ]"
   ]
  },
  {
   "cell_type": "code",
   "execution_count": null,
   "metadata": {},
   "outputs": [],
   "source": [
    "for i in {1..5}\n",
    "\n",
    "do\n",
    "    \n",
    "    echo ${i}\n",
    "    \n",
    "    if test ${i} == 2 ; then\n",
    "        echo \"fizz\"\n",
    "    else\n",
    "        echo \"buzz\"\n",
    "    fi\n",
    "    \n",
    "done"
   ]
  },
  {
   "cell_type": "code",
   "execution_count": null,
   "metadata": {
    "scrolled": true
   },
   "outputs": [],
   "source": [
    "for i in {1..5}; do\n",
    "\n",
    "    echo ${i}\n",
    "\n",
    "    if [[ ${i} == 2 ]]; then \n",
    "        echo \"fizz\"\n",
    "    else \n",
    "        echo \"buzz\"\n",
    "    fi\n",
    "\n",
    "done"
   ]
  },
  {
   "cell_type": "markdown",
   "metadata": {},
   "source": [
    "* `[[${i} == 2]]` wrong!\n",
    "* `[[ ${i} == 2 ]]` right! There must be a blank space after and before the square brackets []"
   ]
  },
  {
   "cell_type": "code",
   "execution_count": null,
   "metadata": {},
   "outputs": [],
   "source": [
    "    if [[ ${i}==2 ]]; then\n",
    "        echo \"fizz\"\n",
    "    else\n",
    "        echo \"buzz\"\n",
    "    fi"
   ]
  },
  {
   "cell_type": "markdown",
   "metadata": {},
   "source": [
    "* `${i}==2` wrong\n",
    "\n",
    "* `${i} == 2` right! There must be a blank space after and before the `==`"
   ]
  },
  {
   "cell_type": "markdown",
   "metadata": {},
   "source": [
    "### Using for ((INITIALIZATION; TEST; STEP))"
   ]
  },
  {
   "cell_type": "markdown",
   "metadata": {},
   "source": [
    "```\n",
    "for ((INITIALIZATION; TEST; STEP))\n",
    "do\n",
    "  [COMMANDS]\n",
    "done\n",
    "```"
   ]
  },
  {
   "cell_type": "code",
   "execution_count": null,
   "metadata": {},
   "outputs": [],
   "source": [
    "for ((i=1; i<=5; i++))\n",
    "do\n",
    "\n",
    "    #echo ${i}\n",
    "\n",
    "    # conditional\n",
    "    \n",
    "    if [[ ${i} == 2 ]]; then\n",
    "        echo ${i}, \"fizz\"\n",
    "    else\n",
    "        echo ${i}, \"buzz\"\n",
    "    fi\n",
    "    \n",
    "done"
   ]
  },
  {
   "cell_type": "markdown",
   "metadata": {},
   "source": [
    "## While Loop and Until Loop"
   ]
  },
  {
   "cell_type": "markdown",
   "metadata": {},
   "source": [
    "Both for loops and while loops are very similar. \n",
    "\n",
    "Typically, we use for loops where **we know exactly how many iterations we need** – i.e. they have a **definitive start and end point**. \n",
    "\n",
    "On the other hand, while loops are used where **we don’t know the limitations on tasks** such as read in a file or asking a user for input. \n",
    "\n",
    "They just **keep iterating as long as the specified condition has been met**."
   ]
  },
  {
   "cell_type": "code",
   "execution_count": null,
   "metadata": {},
   "outputs": [],
   "source": [
    "while [condition]\n",
    "do\n",
    "    \t# Commands to run\n",
    "done"
   ]
  },
  {
   "cell_type": "markdown",
   "metadata": {},
   "source": [
    "Using while loops in the right way"
   ]
  },
  {
   "cell_type": "code",
   "execution_count": null,
   "metadata": {
    "scrolled": true
   },
   "outputs": [],
   "source": [
    "i=1\n",
    "\n",
    "while [[ \"${i}\" -le 3 ]]\n",
    "do\n",
    "    # code body\n",
    "    echo \"${i}\"\n",
    "    (( i++ ))\n",
    "done"
   ]
  },
  {
   "cell_type": "code",
   "execution_count": null,
   "metadata": {},
   "outputs": [],
   "source": [
    "i=1\n",
    "\n",
    "while [[ $i -le 3 ]]\n",
    "do\n",
    "    echo $i\n",
    "    (( i++ ))\n",
    "done"
   ]
  },
  {
   "cell_type": "code",
   "execution_count": null,
   "metadata": {},
   "outputs": [],
   "source": [
    "while read data\n",
    "do\n",
    "   echo \"${data}\"\n",
    "done < infile.txt"
   ]
  },
  {
   "cell_type": "markdown",
   "metadata": {},
   "source": [
    "This is what is known as a while loop. What do we mean by this? \n",
    "\n",
    "In this example, the **while loop will only keep iterating while there are lines to be read from the given input file**. \n",
    "\n",
    "Here, infile.txt is the name of the file that we are going to be looping over. \n",
    "\n",
    "The **read command will process the file, line by line**, *into the data variable*. Once it reaches the end of the file, the while loop will be terminated."
   ]
  },
  {
   "cell_type": "code",
   "execution_count": null,
   "metadata": {},
   "outputs": [],
   "source": [
    "while read data\n",
    "do \n",
    "    echo \"${data}\"\n",
    "done < fruits.txt"
   ]
  },
  {
   "cell_type": "markdown",
   "metadata": {},
   "source": [
    "The **read command will process the file, line by line**, *into the data variable*. Once it reaches the end of the file, the while loop will be terminated."
   ]
  },
  {
   "cell_type": "code",
   "execution_count": null,
   "metadata": {},
   "outputs": [],
   "source": [
    "while read data\n",
    "do\n",
    "    echo \"${data}\"\n",
    "done < cats.txt"
   ]
  },
  {
   "cell_type": "markdown",
   "metadata": {},
   "source": [
    "## Until loop"
   ]
  },
  {
   "cell_type": "markdown",
   "metadata": {},
   "source": [
    "We just looked at an example of a while loop. Now, we’re going to look at run-until loops. \n",
    "\n",
    "The main difference is that while loops are designed to *run while a condition is satisfied* and then **terminate once that condition returns false**. \n",
    "\n",
    "On the other hand, until loops are **designed to run while the condition returns false** and only **terminate when the condition returns true**.\n",
    "\n",
    "The structure of until loops is almost identical to that of a while loop:"
   ]
  },
  {
   "cell_type": "code",
   "execution_count": null,
   "metadata": {},
   "outputs": [],
   "source": [
    "until [condition]\n",
    "do\n",
    "    \t# Commands to run\n",
    "done"
   ]
  },
  {
   "cell_type": "markdown",
   "metadata": {},
   "source": [
    "For example, this loop **would run until the variable is greater than 3**:"
   ]
  },
  {
   "cell_type": "code",
   "execution_count": 3,
   "metadata": {},
   "outputs": [
    {
     "name": "stdout",
     "output_type": "stream",
     "text": [
      "1\n",
      "2\n",
      "3\n"
     ]
    }
   ],
   "source": [
    "i=1\n",
    "until [[ $i -gt 3 ]]\n",
    "do\n",
    "    echo $i\n",
    "    (( i++ ))\n",
    "done"
   ]
  },
  {
   "cell_type": "markdown",
   "metadata": {},
   "source": [
    "# Bash Functions"
   ]
  },
  {
   "cell_type": "markdown",
   "metadata": {},
   "source": [
    "When you’re writing Bash scripts, you’ll often find that there are repetitive tasks. Instead of copying and pasting the same code to multiple places in your scripts, try using a function."
   ]
  },
  {
   "cell_type": "markdown",
   "metadata": {},
   "source": [
    "Bash function syntax is pretty straightforward. We start off by defining the function name, followed by parentheses. The commands that we want to execute are found between the curly brackets and are known as the body of the function."
   ]
  },
  {
   "cell_type": "code",
   "execution_count": null,
   "metadata": {},
   "outputs": [],
   "source": [
    "function my_function() {\n",
    "    \t#some code\n",
    "}"
   ]
  },
  {
   "cell_type": "markdown",
   "metadata": {},
   "source": [
    "There is an alternative syntax where you don’t have to prefix that first line with function:"
   ]
  },
  {
   "cell_type": "code",
   "execution_count": null,
   "metadata": {},
   "outputs": [],
   "source": [
    "my_function() {\n",
    "    \t#some code\n",
    "}"
   ]
  },
  {
   "cell_type": "markdown",
   "metadata": {},
   "source": [
    "However, it is much easier to pick out our functions if we use the **previous syntax**. \n",
    "\n",
    "It’s also a good idea to make sure that the names of your functions are relative and descriptive so that you can quickly see what they’re going to do."
   ]
  },
  {
   "cell_type": "markdown",
   "metadata": {},
   "source": [
    "Example:"
   ]
  },
  {
   "cell_type": "code",
   "execution_count": null,
   "metadata": {},
   "outputs": [],
   "source": [
    "#!/usr/bin/env bash\n",
    "\n",
    "# Define a function to print \"Hello world!\"\n",
    "function say_hello() {\n",
    "    echo \"Hello world! I'm Maciel and I'm very happy to be learning bash!\"\n",
    "}\n",
    "\n",
    "# Execute the say_hello function\n",
    "say_hello"
   ]
  },
  {
   "cell_type": "markdown",
   "metadata": {},
   "source": [
    "## Adapting function to take arguments from the command line"
   ]
  },
  {
   "cell_type": "markdown",
   "metadata": {},
   "source": [
    "We can adapt out function to take arguments using reserved variables. \n",
    "\n",
    "To access the first argument given to the function, we use the variable `$1`. \n",
    "\n",
    "Let’s tweak our script to use an argument, our name, that is provided to our say_hello function."
   ]
  },
  {
   "cell_type": "code",
   "execution_count": null,
   "metadata": {},
   "outputs": [],
   "source": [
    "#!/usr/bin/env bash\n",
    "\n",
    "# Define a function to print \"Hello world!\"\n",
    "function say_hello() {\n",
    "    echo \"Hello $1! I'm Maciel and I'm very happy to be learning bash with you!\"\n",
    "}\n",
    "\n",
    "# Execute the say_hello function\n",
    "say_hello $1"
   ]
  },
  {
   "cell_type": "code",
   "execution_count": null,
   "metadata": {},
   "outputs": [],
   "source": [
    "./say_hello.sh Maria"
   ]
  },
  {
   "cell_type": "markdown",
   "metadata": {},
   "source": [
    "$1 == Maria"
   ]
  },
  {
   "cell_type": "markdown",
   "metadata": {},
   "source": [
    "Hello Maria! I'm Maciel and I'm very happy to be learning bash with you!"
   ]
  },
  {
   "cell_type": "markdown",
   "metadata": {},
   "source": [
    "### Task "
   ]
  },
  {
   "cell_type": "markdown",
   "metadata": {},
   "source": [
    "Create a function called file_exists taking the first argument (a filename) which it uses to see if the file exists. If it doesn’t, return “File does not exist: “, followed by the filename.\n",
    "\n",
    "Note: you can use the “!” notation when you want to check a negative.\n",
    "\n",
    "* If file exists:"
   ]
  },
  {
   "cell_type": "code",
   "execution_count": null,
   "metadata": {},
   "outputs": [],
   "source": [
    "if [[ -e $1 ]]"
   ]
  },
  {
   "cell_type": "markdown",
   "metadata": {},
   "source": [
    "* If file does not exist:"
   ]
  },
  {
   "cell_type": "code",
   "execution_count": null,
   "metadata": {},
   "outputs": [],
   "source": [
    "if [[ ! -e $1 ]]"
   ]
  },
  {
   "cell_type": "markdown",
   "metadata": {},
   "source": [
    "Option 1:"
   ]
  },
  {
   "cell_type": "code",
   "execution_count": null,
   "metadata": {},
   "outputs": [],
   "source": [
    "#!/usr/bin/env bash\n",
    "\n",
    "# passing the file as argument to the script\n",
    "file=$1\n",
    "\n",
    "# defining the function file_exists\n",
    "function file_exists() {\n",
    "\n",
    "    if [[ -e $1 ]]; then\n",
    "        # execute if the file passed as argument exists\n",
    "        echo \"The file exist, proceed\"\n",
    "    elif [[ ! -e $1 ]]; then\n",
    "        # execute if the file passed as argument doesn't exist\n",
    "        echo \"The file doesn't exist\"\n",
    "    else\n",
    "        echo \"Pass a file to the script\"\n",
    "    fi\n",
    "}\n",
    "\n",
    "# Execute the function, put argument\n",
    "file_exists $1"
   ]
  },
  {
   "cell_type": "markdown",
   "metadata": {},
   "source": [
    "There is something wrong with\n",
    "```\n",
    "* file=$1\n",
    "* file_exists $1\n",
    "```"
   ]
  },
  {
   "cell_type": "markdown",
   "metadata": {},
   "source": [
    "Option 2:"
   ]
  },
  {
   "cell_type": "code",
   "execution_count": null,
   "metadata": {},
   "outputs": [],
   "source": [
    "#!/usr/bin/env bash\n",
    "\n",
    "# Passing the file as argument to the script \n",
    "file=$1\n",
    "# Store the file in a variable\n",
    "\n",
    "# defining the function file_exists\n",
    "function file_exists() {\n",
    "    if [[ ! -e $1 ]]; then\n",
    "        echo \"File does not exist: $1 \"\n",
    "    fi\n",
    "}\n",
    "\n",
    "\n",
    "# Execute the function with an argument passed to the script in the Command line\n",
    "file_exists \"${file}\""
   ]
  },
  {
   "cell_type": "markdown",
   "metadata": {},
   "source": [
    "This is the answer accepted as correct by the teachers. They comment:\n",
    "\n",
    "> Notice that we are checking to see that a file doesn't exist, not that it does."
   ]
  },
  {
   "cell_type": "markdown",
   "metadata": {},
   "source": [
    "Links to review:\n",
    "\n",
    "* [Pass arguments into a function](https://bash.cyberciti.biz/guide/Pass_arguments_into_a_function)\n",
    "* [Bash functions](https://linuxize.com/post/bash-functions/)"
   ]
  }
 ],
 "metadata": {
  "kernelspec": {
   "display_name": "Bash",
   "language": "bash",
   "name": "bash"
  },
  "language_info": {
   "codemirror_mode": "shell",
   "file_extension": ".sh",
   "mimetype": "text/x-sh",
   "name": "bash"
  }
 },
 "nbformat": 4,
 "nbformat_minor": 4
}
